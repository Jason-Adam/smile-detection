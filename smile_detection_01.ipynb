{
 "cells": [
  {
   "cell_type": "markdown",
   "metadata": {},
   "source": [
    "# Automated Smile Detection Part 1: Dataset Organization\n",
    "This first notebook will walk through downloading the dataset and creating the training, validation, and testing sets for future modeling. The original dataset was downloaded from this [repo](https://github.com/hromi/SMILEsmileD). It consists of 3,690 images of smiling faces and 9,476 images of non-smiling faces.  \n",
    "\n",
    "# Imports"
   ]
  },
  {
   "cell_type": "code",
   "execution_count": 38,
   "metadata": {},
   "outputs": [
    {
     "name": "stdout",
     "output_type": "stream",
     "text": [
      "The blackcellmagic extension is already loaded. To reload it, use:\n",
      "  %reload_ext blackcellmagic\n"
     ]
    }
   ],
   "source": [
    "# Imports\n",
    "import os\n",
    "import re\n",
    "import shutil\n",
    "\n",
    "%load_ext blackcellmagic"
   ]
  },
  {
   "cell_type": "markdown",
   "metadata": {},
   "source": [
    "# Establish Paths for Splits  \n",
    "I decided to follow the folder structure laid out in Deep Learning with Python, Chapter 5, by Francois Chollet [1].  \n",
    "Folder Structure:  \n",
    "![](img/01_folder_structure.png)"
   ]
  },
  {
   "cell_type": "code",
   "execution_count": 67,
   "metadata": {},
   "outputs": [],
   "source": [
    "# Original Data \n",
    "ORIGINAL_DATASET = \"/users/jasonadam/github/SMILEsmileD/SMILEs\" \n",
    "NEGATIVES_PATH = os.path.join(BASE_PATH, \"negatives/negatives7\")\n",
    "POSITIVES_PATH = os.path.join(BASE_PATH, \"positives/positives7\")\n",
    "\n",
    "# New Paths for Splits\n",
    "NEW_BASE_TRAIN = \"data/train\"\n",
    "NEW_BASE_VALIDATE = \"data/validation\"\n",
    "NEW_BASE_TEST = \"data/test\"\n",
    "\n",
    "# Positive Samples (i.e. Smiles)\n",
    "POSITIVE_TRAIN = os.path.join(NEW_BASE_TRAIN, \"positive\")\n",
    "POSITIVE_VALIDATE = os.path.join(NEW_BASE_VALIDATE, \"positive\")\n",
    "POSITIVE_TEST = os.path.join(NEW_BASE_TEST, \"positive\")\n",
    "\n",
    "# Negative Samples (i.e. Not Smiling)\n",
    "NEGATIVE_TRAIN = os.path.join(NEW_BASE_TRAIN, \"negative\")\n",
    "NEGATIVE_VALIDATE = os.path.join(NEW_BASE_VALIDATE, \"negative\")\n",
    "NEGATIVE_TEST = os.path.join(NEW_BASE_TEST, \"negative\")"
   ]
  },
  {
   "cell_type": "code",
   "execution_count": 68,
   "metadata": {},
   "outputs": [
    {
     "name": "stdout",
     "output_type": "stream",
     "text": [
      "There are 9476 negative images.\n",
      "There are 3690 positive images.\n"
     ]
    }
   ],
   "source": [
    "# Check Total Files\n",
    "print(\"There are {} negative images.\".format(len(os.listdir(NEGATIVES_PATH))))\n",
    "print(\"There are {} positive images.\".format(len(os.listdir(POSITIVES_PATH))))"
   ]
  },
  {
   "cell_type": "markdown",
   "metadata": {},
   "source": [
    "# Split Into Train, Validation, Test  \n",
    "## Collect Filenames & Filter Non-JPG Files"
   ]
  },
  {
   "cell_type": "code",
   "execution_count": 69,
   "metadata": {},
   "outputs": [],
   "source": [
    "jpg_pattern = re.compile(\".jpg$\")\n",
    "\n",
    "NEG_FILES = [\n",
    "    os.path.join(NEGATIVES_PATH, i)\n",
    "    for i in os.listdir(NEGATIVES_PATH)\n",
    "    if jpg_pattern.search(i) is not None\n",
    "]\n",
    "\n",
    "POS_FILES = [\n",
    "    os.path.join(POSITIVES_PATH, i)\n",
    "    for i in os.listdir(POSITIVES_PATH)\n",
    "    if jpg_pattern.search(i) is not None\n",
    "]"
   ]
  },
  {
   "cell_type": "markdown",
   "metadata": {},
   "source": [
    "## Split Positive Files"
   ]
  },
  {
   "cell_type": "code",
   "execution_count": 70,
   "metadata": {},
   "outputs": [],
   "source": [
    "# Split Positives\n",
    "for f in POS_FILES[0:2690]:\n",
    "    dst_file = f.split(\"/\")[-1]\n",
    "    shutil.copyfile(src=f, dst=os.path.join(POSITIVE_TRAIN, dst_file))\n",
    "\n",
    "\n",
    "for f in POS_FILES[2690:3190]:\n",
    "    dst_file = f.split(\"/\")[-1]\n",
    "    shutil.copyfile(src=f, dst=os.path.join(POSITIVE_VALIDATE, dst_file))\n",
    "\n",
    "\n",
    "for f in POS_FILES[3190:3690]:\n",
    "    dst_file = f.split(\"/\")[-1]\n",
    "    shutil.copyfile(src=f, dst=os.path.join(POSITIVE_TEST, dst_file))"
   ]
  },
  {
   "cell_type": "markdown",
   "metadata": {},
   "source": [
    "## Split Negative Files"
   ]
  },
  {
   "cell_type": "code",
   "execution_count": 71,
   "metadata": {},
   "outputs": [],
   "source": [
    "# Split Negatives \n",
    "for f in NEG_FILES[0:2690]:\n",
    "    dst_file = f.split(\"/\")[-1]\n",
    "    shutil.copyfile(src=f, dst=os.path.join(NEGATIVE_TRAIN, dst_file))\n",
    "\n",
    "\n",
    "for f in NEG_FILES[2690:3190]:\n",
    "    dst_file = f.split(\"/\")[-1]\n",
    "    shutil.copyfile(src=f, dst=os.path.join(NEGATIVE_VALIDATE, dst_file))\n",
    "\n",
    "\n",
    "for f in NEG_FILES[3190:3690]:\n",
    "    dst_file = f.split(\"/\")[-1]\n",
    "    shutil.copyfile(src=f, dst=os.path.join(NEGATIVE_TEST, dst_file))"
   ]
  },
  {
   "cell_type": "markdown",
   "metadata": {},
   "source": [
    "## Validate Files were Moved  \n",
    "I decided to limit the negative file counts to the same as the positive so that there was an even split for training the model."
   ]
  },
  {
   "cell_type": "code",
   "execution_count": 77,
   "metadata": {},
   "outputs": [
    {
     "name": "stdout",
     "output_type": "stream",
     "text": [
      "-----POSITIVE-----\n",
      "2690\n",
      "500\n",
      "500\n",
      "-----NEGATIVE-----\n",
      "2690\n",
      "500\n",
      "500\n"
     ]
    }
   ],
   "source": [
    "print(\"-----POSITIVE-----\")\n",
    "print(len(os.listdir(POSITIVE_TRAIN)))\n",
    "print(len(os.listdir(POSITIVE_VALIDATE)))\n",
    "print(len(os.listdir(POSITIVE_TEST)))\n",
    "\n",
    "print(\"-----NEGATIVE-----\")\n",
    "print(len(os.listdir(NEGATIVE_TRAIN)))\n",
    "print(len(os.listdir(NEGATIVE_VALIDATE)))\n",
    "print(len(os.listdir(NEGATIVE_TEST)))"
   ]
  }
 ],
 "metadata": {
  "kernelspec": {
   "display_name": "smile-detection",
   "language": "python",
   "name": "smile-detection"
  },
  "language_info": {
   "codemirror_mode": {
    "name": "ipython",
    "version": 3
   },
   "file_extension": ".py",
   "mimetype": "text/x-python",
   "name": "python",
   "nbconvert_exporter": "python",
   "pygments_lexer": "ipython3",
   "version": "3.7.3"
  }
 },
 "nbformat": 4,
 "nbformat_minor": 4
}
